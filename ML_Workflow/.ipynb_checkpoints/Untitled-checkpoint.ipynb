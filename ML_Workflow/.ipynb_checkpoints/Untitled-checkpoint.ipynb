{
 "cells": [
  {
   "cell_type": "code",
   "execution_count": 1,
   "id": "53753bb9",
   "metadata": {},
   "outputs": [],
   "source": [
    "import csv"
   ]
  },
  {
   "cell_type": "code",
   "execution_count": 2,
   "id": "92683eb5",
   "metadata": {},
   "outputs": [],
   "source": [
    "f= open(\"C:\\\\Users\\\\AMARJEET ANAND\\\\Music\\\\New folder (3)\\\\flagged\\\\log.csv\",\"r\") "
   ]
  },
  {
   "cell_type": "code",
   "execution_count": 3,
   "id": "ed3ad349",
   "metadata": {},
   "outputs": [],
   "source": [
    "p=[]"
   ]
  },
  {
   "cell_type": "code",
   "execution_count": null,
   "id": "04fbc3c3",
   "metadata": {},
   "outputs": [],
   "source": []
  },
  {
   "cell_type": "code",
   "execution_count": 4,
   "id": "5afeea52",
   "metadata": {},
   "outputs": [],
   "source": [
    "for row in f:\n",
    "    p.append(row)"
   ]
  },
  {
   "cell_type": "code",
   "execution_count": null,
   "id": "c04d4140",
   "metadata": {},
   "outputs": [],
   "source": []
  },
  {
   "cell_type": "code",
   "execution_count": 5,
   "id": "7fff317f",
   "metadata": {},
   "outputs": [],
   "source": [
    "\n",
    "k=0\n",
    "x=[]\n",
    "for i in p:\n",
    "        k=0\n",
    "        for j in i:\n",
    "            if j==',':\n",
    "                break;\n",
    "            else:\n",
    "                k=k+1\n",
    "        x.append(k)"
   ]
  },
  {
   "cell_type": "code",
   "execution_count": null,
   "id": "5fd651e1",
   "metadata": {},
   "outputs": [],
   "source": []
  },
  {
   "cell_type": "code",
   "execution_count": null,
   "id": "d8531ef0",
   "metadata": {},
   "outputs": [],
   "source": []
  },
  {
   "cell_type": "code",
   "execution_count": 6,
   "id": "9de70444",
   "metadata": {},
   "outputs": [
    {
     "name": "stdout",
     "output_type": "stream",
     "text": [
      "enter k10\n",
      "10,'amarjeet anand','[\"itching\", \"skin_rash\", \"nodal_skin_eruptions\", \"continuous_sneezing\", \"shivering\"]','Fungal infection','','','2022-10-05 14:20:40.519391'\n",
      "\n",
      "10,'amarjeet anand','[\"itching\", \"skin_rash\", \"nodal_skin_eruptions\", \"continuous_sneezing\", \"shivering\", \"vomiting\", \"burning_micturition\", \"fatigue\", \"spotting_ urination\", \"weight_gain\"]','Drug Reaction','','','2022-10-05 14:21:04.240811'\n",
      "\n"
     ]
    }
   ],
   "source": [
    "ctr=0\n",
    "k=input(\"enter k\")\n",
    "for i in p:\n",
    "    if ctr==0:\n",
    "        ctr=1\n",
    "    else:    \n",
    "        if p[ctr][0:x[ctr]]==k:\n",
    "            for j in i:\n",
    "                print(j,end=\"\")\n",
    "            print()    \n",
    "            ctr=ctr+1\n",
    "        else:\n",
    "            ctr=ctr+1           "
   ]
  },
  {
   "cell_type": "code",
   "execution_count": null,
   "id": "9854823d",
   "metadata": {},
   "outputs": [],
   "source": []
  },
  {
   "cell_type": "code",
   "execution_count": null,
   "id": "ecf13971",
   "metadata": {},
   "outputs": [],
   "source": []
  },
  {
   "cell_type": "code",
   "execution_count": null,
   "id": "a1042054",
   "metadata": {},
   "outputs": [],
   "source": []
  }
 ],
 "metadata": {
  "kernelspec": {
   "display_name": "Python 3 (ipykernel)",
   "language": "python",
   "name": "python3"
  },
  "language_info": {
   "codemirror_mode": {
    "name": "ipython",
    "version": 3
   },
   "file_extension": ".py",
   "mimetype": "text/x-python",
   "name": "python",
   "nbconvert_exporter": "python",
   "pygments_lexer": "ipython3",
   "version": "3.10.1"
  }
 },
 "nbformat": 4,
 "nbformat_minor": 5
}
